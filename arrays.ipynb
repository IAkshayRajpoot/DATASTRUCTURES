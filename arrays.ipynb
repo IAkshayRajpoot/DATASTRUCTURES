{
 "cells": [
  {
   "cell_type": "code",
   "execution_count": 10,
   "metadata": {},
   "outputs": [
    {
     "name": "stdout",
     "output_type": "stream",
     "text": [
      "array('i', [1, 2])\n",
      "how many elements2\n",
      "enter elements  : 5\n",
      "enter elements  : 4\n",
      "array('i', [5, 4])\n",
      "array('i', [1, 2, 5, 4])\n",
      "[[1 2]]\n",
      "(2, 2)\n",
      "[[1 2]\n",
      " [2 3]]\n",
      "[[5 8]]\n"
     ]
    }
   ],
   "source": [
    "# liner array\n",
    "from array import *\n",
    "#from  numpy import *\n",
    "\n",
    "a = array('i',[1,2])\n",
    "print(a)\n",
    "\n",
    "b = array('i',[])\n",
    "t = int(input('how many elements'))\n",
    "\n",
    "for i in range(t):\n",
    "     b.append(int(input('enter elements  : ')))\n",
    "print(b)\n",
    "\n",
    "print(a+b)\n",
    "from numpy import matrix\n",
    "a1=matrix(a)\n",
    "print(a1)\n",
    "b1=matrix([[1,2],[2,3]])\n",
    "print(shape(b1))\n",
    "print(b1)\n",
    "\n",
    "print(a1*b1)"
   ]
  },
  {
   "cell_type": "code",
   "execution_count": 31,
   "metadata": {},
   "outputs": [
    {
     "name": "stdout",
     "output_type": "stream",
     "text": [
      "how many elements 3\n",
      " enter elements 4\n",
      " enter elements 5\n",
      " enter elements 6\n",
      "[4, 5, 6]\n",
      " enter position and item to insert 0,1\n",
      "0 1\n",
      "3\n"
     ]
    },
    {
     "ename": "IndexError",
     "evalue": "list assignment index out of range",
     "output_type": "error",
     "traceback": [
      "\u001b[0;31m---------------------------------------------------------------------------\u001b[0m",
      "\u001b[0;31mIndexError\u001b[0m                                Traceback (most recent call last)",
      "\u001b[0;32m<ipython-input-31-d994b3c88a1b>\u001b[0m in \u001b[0;36m<module>\u001b[0;34m\u001b[0m\n\u001b[1;32m      9\u001b[0m \u001b[0mprint\u001b[0m\u001b[0;34m(\u001b[0m\u001b[0mn\u001b[0m\u001b[0;34m)\u001b[0m\u001b[0;34m\u001b[0m\u001b[0;34m\u001b[0m\u001b[0m\n\u001b[1;32m     10\u001b[0m \u001b[0;32mwhile\u001b[0m\u001b[0;34m(\u001b[0m\u001b[0mp\u001b[0m\u001b[0;34m<\u001b[0m\u001b[0mn\u001b[0m\u001b[0;34m)\u001b[0m\u001b[0;34m:\u001b[0m\u001b[0;34m\u001b[0m\u001b[0;34m\u001b[0m\u001b[0m\n\u001b[0;32m---> 11\u001b[0;31m     \u001b[0ma\u001b[0m\u001b[0;34m[\u001b[0m\u001b[0mp\u001b[0m\u001b[0;34m+\u001b[0m\u001b[0;36m1\u001b[0m\u001b[0;34m]\u001b[0m\u001b[0;34m=\u001b[0m\u001b[0ma\u001b[0m\u001b[0;34m[\u001b[0m\u001b[0mp\u001b[0m\u001b[0;34m]\u001b[0m\u001b[0;34m\u001b[0m\u001b[0;34m\u001b[0m\u001b[0m\n\u001b[0m\u001b[1;32m     12\u001b[0m     \u001b[0mp\u001b[0m\u001b[0;34m+=\u001b[0m\u001b[0;36m1\u001b[0m\u001b[0;34m\u001b[0m\u001b[0;34m\u001b[0m\u001b[0m\n\u001b[1;32m     13\u001b[0m \u001b[0;31m#a[p-1]=m\u001b[0m\u001b[0;34m\u001b[0m\u001b[0;34m\u001b[0m\u001b[0;34m\u001b[0m\u001b[0m\n",
      "\u001b[0;31mIndexError\u001b[0m: list assignment index out of range"
     ]
    }
   ],
   "source": [
    "a=[]\n",
    "n = int(input(\"how many elements \"))\n",
    "for i in range(n):\n",
    "    a.append((int(input(\" enter elements \"))))\n",
    "print(a)\n",
    "p, m =[ int(i) for i in input(\" enter position and item to insert \").split(',')]\n",
    "print(p , m)   \n",
    "n=n\n",
    "print(n)\n",
    "while(p<n):\n",
    "    a[p+1]=a[p]\n",
    "    p+=1\n",
    "#a[p-1]=m    \n",
    "print(a)\n",
    "\n",
    "    "
   ]
  },
  {
   "cell_type": "code",
   "execution_count": 4,
   "metadata": {},
   "outputs": [
    {
     "name": "stdout",
     "output_type": "stream",
     "text": [
      "how much elements5\n",
      " enter the elements :  4\n",
      " enter the elements :  5\n",
      " enter the elements :  6\n",
      " enter the elements :  8\n",
      " enter the elements :  5\n",
      "array('i', [4, 5, 6, 8, 5])\n",
      "enter element u want to delete  6\n",
      "array('i', [4, 5, 8, 5])\n"
     ]
    }
   ],
   "source": [
    "# deletion in an linear array\n",
    "from array import *\n",
    "a = array('i', [])\n",
    "\n",
    "b = int(input('how much elements'))\n",
    "for i in range(b):\n",
    "    a.append(int(input(\" enter the elements :  \")))\n",
    "print(a)\n",
    "\n",
    "\n",
    "n = int(input('enter element u want to delete  '))\n",
    "\n",
    "for i in range(b):\n",
    "    print(a[i])\n",
    "    if n==a[i]:\n",
    "        c=i\n",
    "        #break\n",
    "#a.pop(c)\n",
    "#a.remove(n)\n",
    "\n",
    "print(a)"
   ]
  },
  {
   "cell_type": "code",
   "execution_count": 27,
   "metadata": {},
   "outputs": [
    {
     "name": "stdout",
     "output_type": "stream",
     "text": [
      "how much elements3\n",
      " enter the elements :  4\n",
      " enter the elements :  5\n",
      " enter the elements :  6\n",
      "array('i', [4, 5, 6])\n",
      "enter element u want to delete  5\n",
      "2 1\n",
      "4\n",
      "6\n"
     ]
    }
   ],
   "source": [
    "from array import *\n",
    "a = array('i', [])\n",
    "\n",
    "b = int(input('how much elements'))\n",
    "for i in range(b):\n",
    "    a.append(int(input(\" enter the elements :  \")))\n",
    "print(a)\n",
    "\n",
    "\n",
    "n = int(input('enter element u want to delete  '))\n",
    "for i in range(b):\n",
    "        if a[i]==n:\n",
    "            c = i \n",
    "            break\n",
    "d = c\n",
    "b=b-1\n",
    "print(b, d)\n",
    "while(d< b):\n",
    "        a[d]=a[d+1]         \n",
    "        d+=1\n",
    "for i in range(b):\n",
    "        print(a[i])"
   ]
  },
  {
   "cell_type": "code",
   "execution_count": 5,
   "metadata": {},
   "outputs": [
    {
     "name": "stdout",
     "output_type": "stream",
     "text": [
      "enter number of rows and column2,2\n",
      "enter elements  2\n",
      "enter elements  2\n",
      "enter elements  2\n",
      "enter elements  2\n",
      "[[2 2]\n",
      " [2 2]]\n"
     ]
    }
   ],
   "source": [
    "from numpy import *\n",
    "\n",
    "m, n = [int(x) for x in input('enter number of rows and column').split(',')]\n",
    "\n",
    "a=zeros((m, n), dtype=int)\n",
    "\n",
    "for i in range(0,m):\n",
    "    for j in range(0,n):\n",
    "        a[i][j]=int(input('enter elements  '))\n",
    "\n",
    "print(a)        "
   ]
  },
  {
   "cell_type": "code",
   "execution_count": 7,
   "metadata": {},
   "outputs": [
    {
     "name": "stdout",
     "output_type": "stream",
     "text": [
      "enter number of rows and column2,2\n",
      "enter elements  5\n",
      "enter elements  4\n",
      "enter elements  8\n",
      "enter elements  7\n",
      "[[5 4]\n",
      " [8 7]]\n",
      "enter second matrix elements  5 4 8 7 \n",
      "5 4 8 7 \n",
      "[[5 4]\n",
      " [8 7]]\n"
     ]
    }
   ],
   "source": [
    "from numpy import *\n",
    "import array\n",
    "\n",
    "m, n = [int(x) for x in input('enter number of rows and column').split(',')]\n",
    "\n",
    "a1=zeros((m, n), dtype=int)\n",
    "\n",
    "\n",
    "for i in range(0,m):\n",
    "    for j in range(0,n):\n",
    "        a1[i][j]=int(input('enter elements  '))\n",
    "\n",
    "print(a1)        \n",
    "\n",
    "# second mathod\n",
    "\n",
    "str=input('enter second matrix elements  ')\n",
    "print(str)\n",
    "x= reshape(matrix(str), (m, n))\n",
    "print(x)"
   ]
  },
  {
   "cell_type": "code",
   "execution_count": 12,
   "metadata": {},
   "outputs": [
    {
     "name": "stdout",
     "output_type": "stream",
     "text": [
      "how many elements  : 10\n",
      "elements  : 9\n",
      "elements  : 2\n",
      "elements  : 8\n",
      "elements  : 6\n",
      "elements  : 7\n",
      "elements  : 3\n",
      "elements  : 4\n",
      "elements  : 1\n",
      "elements  : 8\n",
      "elements  : 9\n",
      "[9, 2, 8, 6, 7, 3, 4, 1, 8, 9]\n",
      "9\n",
      "1\n"
     ]
    }
   ],
   "source": [
    "n = int(input('how many elements  : ')) # to find max and min element\n",
    "a=[]\n",
    "for i in range(n):\n",
    "    a.append(int(input('elements  : ')))\n",
    "print(a)    \n",
    "m=a[0]\n",
    "\n",
    "for i in range(1,n):\n",
    "    if a[i]>m:\n",
    "        m = a[i]   \n",
    "print(m)     \n",
    "\n",
    "min=a[0]\n",
    "for i in range(1,n):\n",
    "    if min>a[i]:\n",
    "        min=a[i]\n",
    "print(min)    "
   ]
  },
  {
   "cell_type": "code",
   "execution_count": 13,
   "metadata": {},
   "outputs": [
    {
     "name": "stdout",
     "output_type": "stream",
     "text": [
      "how many elements  : 3\n",
      "elements  : 5\n",
      "elements  : 4\n",
      "elements  : 6\n",
      "[5, 4, 6]\n",
      "6\n",
      "6\n",
      "4\n"
     ]
    }
   ],
   "source": [
    "n = int(input('how many elements  : ')) # to find  max and min element\n",
    "a=[]\n",
    "for i in range(n):\n",
    "    a.append(int(input('elements  : ')))\n",
    "print(a)    \n",
    "m=a[0]\n",
    "\n",
    "for i in range(1,n):\n",
    "    if a[i]>m:\n",
    "        m = a[i]   \n",
    "print(m) \n",
    "for i in range(1,n):\n",
    "    if a[i]>m and  a.max(a):\n",
    "        m=a[i]\n",
    "print(m)        \n",
    "    \n",
    "\n",
    "min=a[0]\n",
    "for i in range(1,n):\n",
    "    if min>a[i]:\n",
    "        min=a[i]\n",
    "print(min)    "
   ]
  },
  {
   "cell_type": "code",
   "execution_count": 3,
   "metadata": {
    "scrolled": true
   },
   "outputs": [
    {
     "name": "stdout",
     "output_type": "stream",
     "text": [
      "how many elements  : 5\n",
      "elements  : 4\n",
      "elements  : 5\n",
      "elements  : 5\n",
      "elements  : 2\n",
      "elements  : 6\n",
      "[4, 5, 5, 2, 6]\n",
      "6\n",
      "second max 5\n",
      "2\n"
     ]
    }
   ],
   "source": [
    "n = int(input('how many elements  : ')) # to find  second max element\n",
    "a=[]\n",
    "for i in range(n):\n",
    "    a.append(int(input('elements  : ')))\n",
    "print(a)    \n",
    "m=a[0]\n",
    "\n",
    "for i in range(1,n):\n",
    "    if a[i]>m:\n",
    "        m = a[i]   \n",
    "print(m) \n",
    "\n",
    "for i in range(1,n):\n",
    "    if a[i]>m:\n",
    "        m=a[i]\n",
    "sm=0\n",
    "i=0\n",
    "for i in range(1,n):\n",
    "    if a[i]>sm and a[i]<m:\n",
    "        sm=a[i]\n",
    "print('second max', sm)        \n",
    "    \n",
    "\n",
    "min=a[0]\n",
    "for i in range(1,n):\n",
    "    if min>a[i]:\n",
    "        min=a[i]\n",
    "print(min)   \n",
    "\n"
   ]
  },
  {
   "cell_type": "code",
   "execution_count": 33,
   "metadata": {},
   "outputs": [
    {
     "name": "stdout",
     "output_type": "stream",
     "text": [
      "how many 3\n",
      "enter : 4\n",
      "enter : 5\n",
      "enter : 6\n",
      "[4, 5, 6]\n",
      "[6, 5, 4]\n"
     ]
    }
   ],
   "source": [
    "# reverse of array\n",
    "from array import *\n",
    "\n",
    "a=[]\n",
    "n=int(input('how many '))\n",
    "for i in range(n):\n",
    "    a.append(int(input('enter : ')))\n",
    "print(a) \n",
    "a1=a[::-1]\n",
    "print(a1)"
   ]
  },
  {
   "cell_type": "code",
   "execution_count": 1,
   "metadata": {},
   "outputs": [
    {
     "name": "stdout",
     "output_type": "stream",
     "text": [
      "how many 5\n",
      "enter : 4\n",
      "enter : 5\n",
      "enter : 6\n",
      "enter : 7\n",
      "enter : 8\n",
      "[4, 5, 6, 7, 8]\n"
     ]
    }
   ],
   "source": [
    "from array import *\n",
    "\n",
    "a=[]\n",
    "n=int(input('how many '))\n",
    "for i in range(n):\n",
    "    a.append(int(input('enter : ')))\n",
    "print(a) \n"
   ]
  },
  {
   "cell_type": "code",
   "execution_count": 1,
   "metadata": {},
   "outputs": [
    {
     "name": "stdout",
     "output_type": "stream",
     "text": [
      "3\n",
      "4\n",
      "5\n",
      "6\n",
      "[[4], [5], [6]]\n",
      "[[6], [5], [4]]\n"
     ]
    }
   ],
   "source": [
    "import array\n",
    "a=[]\n",
    "n=int(input())\n",
    "for i in range(n):\n",
    "      a.append([int(x) for x in input().split()])\n",
    "print(a)    \n",
    "a1=a[::-1] # reverse\n",
    "print(a1)"
   ]
  },
  {
   "cell_type": "code",
   "execution_count": 38,
   "metadata": {},
   "outputs": [
    {
     "name": "stdout",
     "output_type": "stream",
     "text": [
      "4\n",
      "4 5 6 1 2\n",
      "[4, 5, 6, 1, 2]\n",
      "2 1 6 5 4 "
     ]
    }
   ],
   "source": [
    "import sys\n",
    "\n",
    "\n",
    "n = int(input().strip())\n",
    "arr = [int(arr_temp) for arr_temp in input().strip().split(' ')]\n",
    "print(arr)\n",
    "\n",
    "for i in range(len(arr)):\n",
    "    print(str(arr[-i-1]), end=\" \")\n"
   ]
  },
  {
   "cell_type": "code",
   "execution_count": 39,
   "metadata": {},
   "outputs": [
    {
     "name": "stdout",
     "output_type": "stream",
     "text": [
      "how many3\n",
      "enter  45\n",
      "enter  6\n",
      "enter  4\n",
      "[45, 6, 4]\n",
      "3\n",
      "[4, 6, 45]\n"
     ]
    }
   ],
   "source": [
    "n = int(input('how many'))\n",
    "a=[]\n",
    "for i in range(n):\n",
    "    a.append(int(input('enter  ')))\n",
    "print(a) \n",
    "dd=len(a)\n",
    "print(dd)\n",
    "b=[]\n",
    "for i in range(dd):\n",
    "    b.append(a[-i-1])\n",
    "print(b)\n",
    "  \n",
    "   "
   ]
  },
  {
   "cell_type": "code",
   "execution_count": 3,
   "metadata": {},
   "outputs": [
    {
     "name": "stdout",
     "output_type": "stream",
     "text": [
      "4 4\n",
      "4 4\n",
      "enter  1\n",
      "enter  2\n",
      "enter  3\n",
      "enter  4\n",
      "enter  5\n",
      "enter  6\n",
      "enter  7\n",
      "enter  8\n",
      "enter  9\n",
      "enter  0\n",
      "enter  9\n",
      "enter  8\n",
      "enter  7\n",
      "enter  6\n",
      "enter  5\n",
      "enter  4\n",
      "[[1 2 3 4]\n",
      " [5 6 7 8]\n",
      " [9 0 9 8]\n",
      " [7 6 5 4]]\n",
      "45\n"
     ]
    }
   ],
   "source": [
    "# maximum sum of hourglass in an array\n",
    "import numpy as np\n",
    "r ,c=[int(x) for x in input().split()]\n",
    "a=np.zeros((r, c),dtype=int)\n",
    "print( r , c)\n",
    "for i in range(0,r):\n",
    "    for j in range(0,c):\n",
    "        a[i][j]=int(input('enter  '))\n",
    "print(a) \n",
    "total=0\n",
    "max_total=-12233445566\n",
    "for i in range(len(a)):\n",
    "    for j in range(len(a[i])):\n",
    "        if j+2<4 and i+2<4:\n",
    "            total = a[i][j] + a[i][j+1] + a[i][j+2]+a[i+1][j+1]+a[i+2][j]+a[i+2][j+1]+a[i+2][j+2]\n",
    "            if max_total < total:\n",
    "\n",
    "                max_total = total\n",
    "print(max_total)\n",
    "    \n",
    "\n"
   ]
  },
  {
   "cell_type": "code",
   "execution_count": 42,
   "metadata": {},
   "outputs": [
    {
     "name": "stdout",
     "output_type": "stream",
     "text": [
      "5\n",
      "4\n",
      "7\n",
      "8\n",
      "9\n",
      "6\n"
     ]
    },
    {
     "ename": "IndexError",
     "evalue": "list index out of range",
     "output_type": "error",
     "traceback": [
      "\u001b[0;31m---------------------------------------------------------------------------\u001b[0m",
      "\u001b[0;31mIndexError\u001b[0m                                Traceback (most recent call last)",
      "\u001b[0;32m<ipython-input-42-08a0905be5cc>\u001b[0m in \u001b[0;36m<module>\u001b[0;34m\u001b[0m\n\u001b[1;32m     10\u001b[0m   \u001b[0;32mfor\u001b[0m \u001b[0mj\u001b[0m \u001b[0;32min\u001b[0m \u001b[0mrange\u001b[0m\u001b[0;34m(\u001b[0m\u001b[0mlen\u001b[0m\u001b[0;34m(\u001b[0m\u001b[0ma\u001b[0m\u001b[0;34m[\u001b[0m\u001b[0mi\u001b[0m\u001b[0;34m]\u001b[0m\u001b[0;34m)\u001b[0m\u001b[0;34m)\u001b[0m\u001b[0;34m:\u001b[0m\u001b[0;34m\u001b[0m\u001b[0;34m\u001b[0m\u001b[0m\n\u001b[1;32m     11\u001b[0m       \u001b[0;32mif\u001b[0m \u001b[0;34m(\u001b[0m\u001b[0mj\u001b[0m\u001b[0;34m+\u001b[0m\u001b[0;36m2\u001b[0m\u001b[0;34m<\u001b[0m\u001b[0;36m6\u001b[0m\u001b[0;34m)\u001b[0m \u001b[0;32mand\u001b[0m \u001b[0;34m(\u001b[0m\u001b[0mi\u001b[0m\u001b[0;34m+\u001b[0m\u001b[0;36m2\u001b[0m\u001b[0;34m<\u001b[0m\u001b[0;36m6\u001b[0m\u001b[0;34m)\u001b[0m\u001b[0;34m:\u001b[0m\u001b[0;34m\u001b[0m\u001b[0;34m\u001b[0m\u001b[0m\n\u001b[0;32m---> 12\u001b[0;31m           \u001b[0mtotal\u001b[0m\u001b[0;34m=\u001b[0m \u001b[0ma\u001b[0m\u001b[0;34m[\u001b[0m\u001b[0mi\u001b[0m\u001b[0;34m]\u001b[0m\u001b[0;34m[\u001b[0m\u001b[0mj\u001b[0m\u001b[0;34m]\u001b[0m\u001b[0;34m+\u001b[0m\u001b[0ma\u001b[0m\u001b[0;34m[\u001b[0m\u001b[0mi\u001b[0m\u001b[0;34m]\u001b[0m\u001b[0;34m[\u001b[0m\u001b[0mj\u001b[0m\u001b[0;34m+\u001b[0m\u001b[0;36m1\u001b[0m\u001b[0;34m]\u001b[0m\u001b[0;34m+\u001b[0m\u001b[0ma\u001b[0m\u001b[0;34m[\u001b[0m\u001b[0mi\u001b[0m\u001b[0;34m]\u001b[0m\u001b[0;34m[\u001b[0m\u001b[0mj\u001b[0m\u001b[0;34m+\u001b[0m\u001b[0;36m2\u001b[0m\u001b[0;34m]\u001b[0m\u001b[0;34m+\u001b[0m\u001b[0ma\u001b[0m\u001b[0;34m[\u001b[0m\u001b[0mi\u001b[0m\u001b[0;34m+\u001b[0m\u001b[0;36m1\u001b[0m\u001b[0;34m]\u001b[0m\u001b[0;34m[\u001b[0m\u001b[0mj\u001b[0m\u001b[0;34m+\u001b[0m\u001b[0;36m1\u001b[0m\u001b[0;34m]\u001b[0m\u001b[0;34m+\u001b[0m\u001b[0ma\u001b[0m\u001b[0;34m[\u001b[0m\u001b[0mi\u001b[0m\u001b[0;34m+\u001b[0m\u001b[0;36m2\u001b[0m\u001b[0;34m]\u001b[0m\u001b[0;34m[\u001b[0m\u001b[0mj\u001b[0m\u001b[0;34m]\u001b[0m\u001b[0;34m+\u001b[0m\u001b[0ma\u001b[0m\u001b[0;34m[\u001b[0m\u001b[0mi\u001b[0m\u001b[0;34m+\u001b[0m\u001b[0;36m2\u001b[0m\u001b[0;34m]\u001b[0m\u001b[0;34m[\u001b[0m\u001b[0mj\u001b[0m\u001b[0;34m+\u001b[0m\u001b[0;36m1\u001b[0m\u001b[0;34m]\u001b[0m\u001b[0;34m+\u001b[0m\u001b[0ma\u001b[0m\u001b[0;34m[\u001b[0m\u001b[0mi\u001b[0m\u001b[0;34m+\u001b[0m\u001b[0;36m2\u001b[0m\u001b[0;34m]\u001b[0m\u001b[0;34m[\u001b[0m\u001b[0mj\u001b[0m\u001b[0;34m+\u001b[0m\u001b[0;36m2\u001b[0m\u001b[0;34m]\u001b[0m\u001b[0;34m\u001b[0m\u001b[0;34m\u001b[0m\u001b[0m\n\u001b[0m\u001b[1;32m     13\u001b[0m       \u001b[0;32mif\u001b[0m \u001b[0mmtotal\u001b[0m\u001b[0;34m<\u001b[0m\u001b[0mtotal\u001b[0m\u001b[0;34m:\u001b[0m\u001b[0;34m\u001b[0m\u001b[0;34m\u001b[0m\u001b[0m\n\u001b[1;32m     14\u001b[0m           \u001b[0mmtotal\u001b[0m\u001b[0;34m=\u001b[0m\u001b[0mtotal\u001b[0m\u001b[0;34m\u001b[0m\u001b[0;34m\u001b[0m\u001b[0m\n",
      "\u001b[0;31mIndexError\u001b[0m: list index out of range"
     ]
    }
   ],
   "source": [
    "  a = []\n",
    "\n",
    "for _ in range(6):\n",
    "    ar=[int(x) for x in input().strip().split(' ')]\n",
    "    a.append(ar)\n",
    "\n",
    "total=0\n",
    "mtotal=-1234567\n",
    "for i in range(len(a)):\n",
    "    for j in range(len(a[i])):\n",
    "        if (j+2<6) and (i+2<6):\n",
    "            total= a[i][j]+a[i][j+1]+a[i][j+2]+a[i+1][j+1]+a[i+2][j]+a[i+2][j+1]+a[i+2][j+2]\n",
    "        if mtotal<total:\n",
    "            mtotal=total\n",
    "print(mtotal)           "
   ]
  },
  {
   "cell_type": "code",
   "execution_count": 40,
   "metadata": {},
   "outputs": [
    {
     "name": "stdout",
     "output_type": "stream",
     "text": [
      "neter age : 4\n",
      " u can not \n"
     ]
    }
   ],
   "source": [
    "n=int(input('neter age : '))\n",
    "if n>=18:\n",
    "    print('u can vote')\n",
    "else:  \n",
    "    print(' u can not ')\n",
    "    "
   ]
  },
  {
   "cell_type": "code",
   "execution_count": 3,
   "metadata": {},
   "outputs": [
    {
     "name": "stdout",
     "output_type": "stream",
     "text": [
      "enter the size of array : 5\n",
      "enter : 4\n",
      "enter : 7\n",
      "enter : 8\n",
      "enter : 9\n",
      "enter : 6\n",
      "[4, 7, 8, 9, 6]\n",
      "enter the number of elements to rotate : 2\n",
      "[4, 7]\n",
      "[8, 9, 6, 4, 7]\n",
      "m2 [6, 4, 7, 8, 9]\n"
     ]
    }
   ],
   "source": [
    "# to rotate an array of n size by d elements\n",
    "import numpy as np\n",
    "a=[]\n",
    "n=int(input('enter the size of array : '))\n",
    "for i in range(n):\n",
    "    a.append(int(input('enter : ')))\n",
    "print(a)    \n",
    "\n",
    "#m1\n",
    "d=int(input('enter the number of elements to rotate : '))\n",
    "temp=[]\n",
    "for i in range(d):\n",
    "    temp.append(a[i])\n",
    "print(temp) \n",
    "for i in range(n-d):\n",
    "    a[i]=a[i+d]\n",
    "for i in range(d):\n",
    "    a[n-d+i]=temp[i]\n",
    "print(a)\n",
    "#m2 # rotate elements one by one by d times\n",
    "for i in range(d):\n",
    "    temp=a[0]\n",
    "    for i in range(n-1):\n",
    "        a[i]=a[i+1]\n",
    "    a[n-1]=temp    \n",
    "print('m2', a)        \n",
    "    \n"
   ]
  },
  {
   "cell_type": "code",
   "execution_count": 43,
   "metadata": {},
   "outputs": [
    {
     "name": "stdout",
     "output_type": "stream",
     "text": [
      "how many  : 3\n",
      "enter  : 4\n",
      "enter  : 5\n",
      "enter  : 6\n",
      "[4, 5, 6]\n",
      "90\n",
      "90\n"
     ]
    }
   ],
   "source": [
    "# find the sum of all possible pairs in nth array\n",
    "# a={1,2}\n",
    "#o/p=12\n",
    "#(1,1)(1,2)(2,1)(2,2)\n",
    "\n",
    "#m1\n",
    "a=[]\n",
    "n=int(input(\"how many  : \"))\n",
    "for i in range(n):\n",
    "    a.append(int(input('enter  : ')))\n",
    "print(a)    \n",
    "def summ(arr):\n",
    "    n=len(arr)\n",
    "    s=0\n",
    "    for i in range(n):\n",
    "        for j in range(n):\n",
    "            s+=arr[i]+arr[j]\n",
    "    return  s\n",
    "x=summ(a)\n",
    "print(x)\n",
    "#m2\n",
    "def summ1(a):\n",
    "    n=len(a)\n",
    "    s=0\n",
    "    for i in range(n):\n",
    "        s=s+(a[i]*(2*n))\n",
    "    return s\n",
    "y=summ1(a)\n",
    "print(y)"
   ]
  },
  {
   "cell_type": "code",
   "execution_count": 5,
   "metadata": {},
   "outputs": [
    {
     "name": "stdout",
     "output_type": "stream",
     "text": [
      "how many  : 5\n",
      "enter  : 1\n",
      "enter  : 2\n",
      "enter  : 3\n",
      "enter  : 4\n",
      "enter  : 5\n",
      "[1, 2, 3, 4, 5]\n",
      "1\n",
      "[2, 3, 4, 5, 1]\n"
     ]
    }
   ],
   "source": [
    "# program to cyclically rotate an array by one\n",
    "a=[]\n",
    "n=int(input(\"how many  : \"))\n",
    "for i in range(n):\n",
    "    a.append(int(input('enter  : ')))\n",
    "print(a)  \n",
    "# rotation\n",
    "temp=a[0]\n",
    "for i in range(n-1):\n",
    "    a[i]=a[i+1]\n",
    "a[n-1]=temp \n",
    "print(a)"
   ]
  },
  {
   "cell_type": "code",
   "execution_count": 3,
   "metadata": {},
   "outputs": [
    {
     "name": "stdout",
     "output_type": "stream",
     "text": [
      "10 3\n",
      "20 4\n",
      "5 1\n"
     ]
    }
   ],
   "source": [
    "# Python 3 program to count frequencies \n",
    "# of array items \n",
    "def countFreq(arr, n): \n",
    "      \n",
    "    # Mark all array elements as not visited \n",
    "    visited = [False for i in range(n)]\n",
    "    #visited = [False]*n\n",
    "  \n",
    "    # Traverse through array elements  \n",
    "    # and count frequencies \n",
    "    for i in range(n): \n",
    "          \n",
    "        # Skip this element if already  \n",
    "        # processed \n",
    "        if (visited[i] == True): \n",
    "            continue\n",
    "  \n",
    "        # Count frequency \n",
    "        count = 1\n",
    "        for j in range(i + 1, n, 1): \n",
    "            if (arr[i] == arr[j]): \n",
    "                visited[j] = True\n",
    "                count += 1\n",
    "          \n",
    "        print(arr[i], count) \n",
    "  \n",
    "# Driver Code \n",
    "if __name__ == '__main__': \n",
    "    arr = [10, 20, 20, 10, 10, 20, 5, 20] \n",
    "    n = len(arr) \n",
    "    countFreq(arr, n) "
   ]
  },
  {
   "cell_type": "markdown",
   "metadata": {},
   "source": [
    "# SUBARRAY WITH GIEVN SUM"
   ]
  },
  {
   "cell_type": "code",
   "execution_count": 40,
   "metadata": {},
   "outputs": [
    {
     "name": "stdout",
     "output_type": "stream",
     "text": [
      " enter size and sum:  5 12\n",
      "enter elements:  1\n",
      "enter elements:  2\n",
      "enter elements:  3\n",
      "enter elements:  7\n",
      "enter elements:  5\n",
      "j=  0\n",
      "inc\n",
      "j=  1\n",
      "2 4\n"
     ]
    }
   ],
   "source": [
    "#t = int(input(\"enter test case: \"))\n",
    "\n",
    "m, n =[int(x) for x in input(\" enter size and sum:  \").split(\" \")]\n",
    "\n",
    "a=[]\n",
    "for i in range(m):\n",
    "    a.append(int(input(\"enter elements:  \")))\n",
    "    \n",
    "def subarray(a):\n",
    "    l = len(a)\n",
    "    flag=False\n",
    "    for i in range(l):\n",
    "        j =i\n",
    "        s=0\n",
    "        print(\"j= \",j)\n",
    "        while(j < l):\n",
    "            s=s+a[j]\n",
    "            if s==n:\n",
    "                print(i+1, j+1)\n",
    "                flag=True\n",
    "                break\n",
    "            j=j+1\n",
    "        if flag==True:\n",
    "            break\n",
    "        print(\"inc\")    \n",
    "            \n",
    "                  \n",
    "subarray(a)       "
   ]
  },
  {
   "cell_type": "code",
   "execution_count": 44,
   "metadata": {},
   "outputs": [
    {
     "name": "stdout",
     "output_type": "stream",
     "text": [
      "enter testcases:  2\n",
      " enter size and sum:  5 12\n",
      "12375\n",
      "2 4\n",
      " enter size and sum:  10 15\n",
      "12345678910\n",
      "1 5\n"
     ]
    }
   ],
   "source": [
    "t= int(input(\"enter testcases:  \"))\n",
    "for i in range(t):\n",
    "    m, n =[int(x) for x in input(\" enter size and sum:  \").split(\" \")]\n",
    "\n",
    "\n",
    "    s=input()\n",
    "    a=[]\n",
    "    for i in s:\n",
    "        a.append(int(i)) \n",
    "    \n",
    "    def subarray(a):\n",
    "        l = len(a)\n",
    "        flag=False\n",
    "        for i in range(l): \n",
    "            j=i\n",
    "            s=0\n",
    "            while(j<l):\n",
    "                s=s+a[j]\n",
    "                if s==n:\n",
    "                    print(i+1, j+1)\n",
    "                    flag=True\n",
    "                    break\n",
    "                j=j+1\n",
    "            if flag==True:\n",
    "                break\n",
    "    subarray(a)     "
   ]
  },
  {
   "cell_type": "code",
   "execution_count": 47,
   "metadata": {},
   "outputs": [
    {
     "name": "stdout",
     "output_type": "stream",
     "text": [
      "1 2 3\n",
      "[1, 2, 3]\n"
     ]
    }
   ],
   "source": [
    "n = map(int, input().split(\" \"))\n",
    "a=list(n)\n",
    "print(a)"
   ]
  },
  {
   "cell_type": "code",
   "execution_count": 51,
   "metadata": {},
   "outputs": [
    {
     "name": "stdout",
     "output_type": "stream",
     "text": [
      "1\n",
      "5 12\n",
      "1 2 3 7 5\n",
      "2 4\n"
     ]
    }
   ],
   "source": [
    "t= int(input(  ))\n",
    "for i in range(t):\n",
    "    m, n =[int(x) for x in input( ).split(\" \")]\n",
    "\n",
    "\n",
    "    s=map(int, input().split(\" \"))\n",
    "    a=list(s)\n",
    "    def subarray(a):\n",
    "        l = m\n",
    "        flag=False\n",
    "        for i in range(l): \n",
    "            j=i\n",
    "            s=0\n",
    "            while(j<l):\n",
    "                s=s+a[j]\n",
    "                if s==n:\n",
    "                    print(i+1, j+1)\n",
    "                    flag=True\n",
    "                    break\n",
    "                j=j+1\n",
    "            if flag==True:\n",
    "                break\n",
    "    subarray(a)     "
   ]
  },
  {
   "cell_type": "markdown",
   "metadata": {},
   "source": [
    "# Given an array of distinct integers. The task is to count all the triplets such that sum of two elements equals the third element."
   ]
  },
  {
   "cell_type": "code",
   "execution_count": 11,
   "metadata": {},
   "outputs": [
    {
     "name": "stdout",
     "output_type": "stream",
     "text": [
      "enter testcases: 1\n",
      "enter size: 4\n",
      "enter elements wuith space separated: 1 5 3 2\n",
      "sss 2\n",
      "cccc 0\n",
      "sss 6\n",
      "sss 4\n",
      "sss 3\n",
      "cccc 1\n",
      "sss 10\n",
      "sss 8\n",
      "sss 7\n",
      "sss 6\n",
      "sss 5\n",
      "cccc 0\n",
      "sss 4\n",
      "-1\n"
     ]
    }
   ],
   "source": [
    "n=int(input(\"enter testcases: \"))\n",
    "\n",
    "for i in range(n):\n",
    "    l = int(input(\"enter size: \"))\n",
    "    s=map(int, input(\"enter elements wuith space separated: \").split(\" \"))\n",
    "    a=list(s)\n",
    "    c=0\n",
    "    for i in range(l):\n",
    "        x=a[i]\n",
    "        p = a.index(x)\n",
    "        while p<l:\n",
    "            s=x+a[p]\n",
    "            print(\"sss\", s)\n",
    "            if s in a:\n",
    "                print('cccc', c)\n",
    "                c=c+1\n",
    "            s=0\n",
    "            p=p+1\n",
    "    if c>0:\n",
    "        print(c-1)\n",
    "    else:\n",
    "        print(-1)\n",
    "           "
   ]
  },
  {
   "cell_type": "code",
   "execution_count": null,
   "metadata": {},
   "outputs": [],
   "source": []
  },
  {
   "cell_type": "code",
   "execution_count": null,
   "metadata": {},
   "outputs": [],
   "source": []
  },
  {
   "cell_type": "code",
   "execution_count": null,
   "metadata": {},
   "outputs": [],
   "source": []
  },
  {
   "cell_type": "code",
   "execution_count": null,
   "metadata": {},
   "outputs": [],
   "source": []
  }
 ],
 "metadata": {
  "kernelspec": {
   "display_name": "Python 3",
   "language": "python",
   "name": "python3"
  },
  "language_info": {
   "codemirror_mode": {
    "name": "ipython",
    "version": 3
   },
   "file_extension": ".py",
   "mimetype": "text/x-python",
   "name": "python",
   "nbconvert_exporter": "python",
   "pygments_lexer": "ipython3",
   "version": "3.7.4"
  }
 },
 "nbformat": 4,
 "nbformat_minor": 2
}
