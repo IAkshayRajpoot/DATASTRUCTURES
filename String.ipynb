{
 "cells": [
  {
   "cell_type": "markdown",
   "metadata": {},
   "source": [
    "# Reverse words in a given string"
   ]
  },
  {
   "cell_type": "code",
   "execution_count": 2,
   "metadata": {},
   "outputs": [
    {
     "name": "stdout",
     "output_type": "stream",
     "text": [
      "tring: akshay\n",
      "yahska\n"
     ]
    }
   ],
   "source": [
    "s=input(\"tring: \" )\n",
    "print(s[::-1])"
   ]
  },
  {
   "cell_type": "code",
   "execution_count": 5,
   "metadata": {},
   "outputs": [
    {
     "name": "stdout",
     "output_type": "stream",
     "text": [
      "testcases? 1\n",
      "string: ak.ee.rr\n",
      "ka.ee.rr\n"
     ]
    }
   ],
   "source": [
    "t =int(input(\"testcases? \"))\n",
    "\n",
    "for i in range(t):\n",
    "    s=input(\"string: \")\n",
    "    \n",
    "    def sreverse(s):\n",
    "        s2=s[::-1]\n",
    "        words=s2.split(\".\")\n",
    "        sr=\".\".join(reversed(words) \n",
    "        \n",
    "        print(sr)\n",
    "        \n",
    "        \n",
    "    sreverse(s)   "
   ]
  },
  {
   "cell_type": "code",
   "execution_count": 8,
   "metadata": {},
   "outputs": [
    {
     "name": "stdout",
     "output_type": "stream",
     "text": [
      "Reversed String:\n",
      "much.very.program.this.like.i\n"
     ]
    }
   ],
   "source": [
    "s = \"i.like.this.program.very.much\"\n",
    "words = s.split('.') \n",
    "string =[] \n",
    "for word in words: \n",
    "    string.insert(0, word) \n",
    "  \n",
    "print(\"Reversed String:\") \n",
    "print(\".\".join(string)) "
   ]
  },
  {
   "cell_type": "markdown",
   "metadata": {},
   "source": [
    "# Permutations of a given string "
   ]
  },
  {
   "cell_type": "code",
   "execution_count": 12,
   "metadata": {},
   "outputs": [
    {
     "name": "stdout",
     "output_type": "stream",
     "text": [
      "enter string: ak\n",
      "string: \n",
      "[('a', 'k'), ('k', 'a')]\n",
      "ak ka "
     ]
    }
   ],
   "source": [
    "from itertools import permutations\n",
    "\n",
    "s = input(\"enter string: \")\n",
    "print(\"string: \")\n",
    "sp = list(permutations(s))\n",
    "print(sp)\n",
    "for i in sp:\n",
    "    print(\"\".join(i), end=\" \")\n"
   ]
  },
  {
   "cell_type": "code",
   "execution_count": 29,
   "metadata": {},
   "outputs": [
    {
     "name": "stdout",
     "output_type": "stream",
     "text": [
      "2\n",
      "ak\n",
      "ak ka\n",
      "aps\n",
      "aps asp pas psa sap spa\n"
     ]
    }
   ],
   "source": [
    "from itertools import permutations\n",
    "\n",
    "t = int(input())\n",
    "fp=[]\n",
    "for i in range(t):\n",
    "    s = input()\n",
    "    sp = list(permutations(s))\n",
    "    for i in sp:\n",
    "        fp.append(\"\".join(i))  \n",
    "    listToStr = ' '.join([str(elem) for elem in fp] ) \n",
    "    print(listToStr)  \n",
    "    fp.clear()\n",
    "      \n",
    "    "
   ]
  },
  {
   "cell_type": "code",
   "execution_count": 24,
   "metadata": {},
   "outputs": [
    {
     "name": "stdout",
     "output_type": "stream",
     "text": [
      "1 123\n",
      "2 aab\n"
     ]
    }
   ],
   "source": [
    "a=[1,2,3]\n",
    "s=''\n",
    "for i in a:\n",
    "    s+=str(i)\n",
    "print(\"1\",s)\n",
    "\n",
    "a1=['a','ab']\n",
    "s=\"\"\n",
    "for i in range(len(a1)):\n",
    "    s += \"\".join(str(a1[i]))\n",
    "print(\"2\",s)"
   ]
  },
  {
   "cell_type": "code",
   "execution_count": 2,
   "metadata": {},
   "outputs": [
    {
     "name": "stdout",
     "output_type": "stream",
     "text": [
      "Geeks for Geeks\n"
     ]
    }
   ],
   "source": [
    "def listToString(s):  \n",
    "    \n",
    "    # initialize an empty string \n",
    "    str1 = \" \" \n",
    "    \n",
    "    # return string   \n",
    "    return (str1.join(s)) \n",
    "        \n",
    "        \n",
    "# Driver code     \n",
    "s = ['Geeks', 'for', 'Geeks'] \n",
    "print(listToString(s))  "
   ]
  },
  {
   "cell_type": "code",
   "execution_count": 26,
   "metadata": {},
   "outputs": [
    {
     "name": "stdout",
     "output_type": "stream",
     "text": [
      "I want 4 apples and 18 bananas\n"
     ]
    }
   ],
   "source": [
    "# Python program to convert a list \n",
    "# to string using list comprehension \n",
    "   \n",
    "s = ['I', 'want', 4, 'apples', 'and', 18, 'bananas'] \n",
    "  \n",
    "# using list comprehension\n",
    "\n",
    "listToStr = ' '.join([str(elem) for elem in s] ) \n",
    "print(listToStr)  "
   ]
  },
  {
   "cell_type": "code",
   "execution_count": 33,
   "metadata": {},
   "outputs": [
    {
     "name": "stdout",
     "output_type": "stream",
     "text": [
      "2\n",
      "ah\n",
      "ah ha\n",
      "aps\n",
      "aps asp pas psa sap spa\n"
     ]
    }
   ],
   "source": [
    "from itertools import permutations\n",
    "\n",
    "t = int(input())\n",
    "def allPermutations(str1): \n",
    "       \n",
    "     # Get all permutations of string 'ABC' \n",
    "    permList = permutations(str1) \n",
    "    fp=[]\n",
    "  \n",
    "     # print all permutations \n",
    "    for perm in list(permList): \n",
    "        fp.append(''.join(perm))\n",
    "    listToStr = ' '.join([str(elem) for elem in fp] ) \n",
    "    print(listToStr) \n",
    "for i in range(t):\n",
    "    allPermutations(input())"
   ]
  },
  {
   "cell_type": "code",
   "execution_count": null,
   "metadata": {},
   "outputs": [],
   "source": []
  },
  {
   "cell_type": "code",
   "execution_count": null,
   "metadata": {},
   "outputs": [],
   "source": []
  },
  {
   "cell_type": "code",
   "execution_count": null,
   "metadata": {},
   "outputs": [],
   "source": []
  },
  {
   "cell_type": "code",
   "execution_count": null,
   "metadata": {},
   "outputs": [],
   "source": []
  },
  {
   "cell_type": "code",
   "execution_count": null,
   "metadata": {},
   "outputs": [],
   "source": []
  }
 ],
 "metadata": {
  "kernelspec": {
   "display_name": "Python 3",
   "language": "python",
   "name": "python3"
  },
  "language_info": {
   "codemirror_mode": {
    "name": "ipython",
    "version": 3
   },
   "file_extension": ".py",
   "mimetype": "text/x-python",
   "name": "python",
   "nbconvert_exporter": "python",
   "pygments_lexer": "ipython3",
   "version": "3.7.4"
  }
 },
 "nbformat": 4,
 "nbformat_minor": 2
}
