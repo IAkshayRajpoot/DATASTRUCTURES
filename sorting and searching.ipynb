{
 "cells": [
  {
   "cell_type": "markdown",
   "metadata": {},
   "source": [
    "# Selection Sort"
   ]
  },
  {
   "cell_type": "code",
   "execution_count": 6,
   "metadata": {},
   "outputs": [
    {
     "name": "stdout",
     "output_type": "stream",
     "text": [
      "how many? 5\n",
      " enter the elements : 5\n",
      " enter the elements : 2\n",
      " enter the elements : 1\n",
      " enter the elements : 4\n",
      " enter the elements : 3\n",
      "[5, 2, 1, 4, 3]\n",
      "[1, 2, 3, 4, 5]\n"
     ]
    }
   ],
   "source": [
    "n= int(input(\"how many? \"))\n",
    "a=[]\n",
    "for i in range(n):\n",
    "    a.append(int(input(\" enter the elements : \")))\n",
    "print(a)\n",
    "\n",
    "# sorting algo\n",
    "\n",
    "def SelectionSorting(a,n):\n",
    "    for i in range(n-1):\n",
    "        min_idx=i\n",
    "        # j=i+1 it will be used with while looping\n",
    "        for j in range(i+1, len(a)): \n",
    "            if a[min_idx] > a[j]: \n",
    "                min_idx = j        \n",
    "        a[i], a[min_idx] = a[min_idx], a[i]\n",
    "    return a                 \n",
    "                      \n",
    "\"\"\" while(j<n): \n",
    "            if a[j]<a[min_idx]:\n",
    "                min_idx = j\n",
    "            j+=1\n",
    "        a[min_idx], a[i]= a[i], a[min_idx]\"\"\"    \n",
    "x=SelectionSorting(a,n)    \n",
    "print(x)\n",
    "        \n",
    "        \n",
    "\n",
    "\n"
   ]
  },
  {
   "cell_type": "markdown",
   "metadata": {},
   "source": [
    "#  Bubble Sort"
   ]
  },
  {
   "cell_type": "code",
   "execution_count": 21,
   "metadata": {},
   "outputs": [
    {
     "name": "stdout",
     "output_type": "stream",
     "text": [
      "how many? 5\n",
      " enter the elements : 5\n",
      " enter the elements : 2\n",
      " enter the elements : 1\n",
      " enter the elements : 4\n",
      " enter the elements : 3\n",
      "[5, 2, 1, 4, 3]\n",
      "[1, 2, 3, 4, 5]\n"
     ]
    }
   ],
   "source": [
    "n= int(input(\"how many? \"))\n",
    "a=[]\n",
    "for i in range(n):\n",
    "    a.append(int(input(\" enter the elements : \")))\n",
    "print(a)\n",
    "\n",
    "# sorting\n",
    "\n",
    "def BubbleSorting(a,n):\n",
    "    for i in range(n):\n",
    "        for j in range(0, n-1-i):\n",
    "            if a[j]>a[j+1]:\n",
    "                a[j], a[j+1] = a[j+1], a[j]\n",
    "    return a            \n",
    "x = BubbleSorting(a,n)\n",
    "print(x)\n",
    "\n"
   ]
  },
  {
   "cell_type": "code",
   "execution_count": 22,
   "metadata": {},
   "outputs": [
    {
     "name": "stdout",
     "output_type": "stream",
     "text": [
      "Sorted array :\n",
      "11 12 22 25 34 64 90 "
     ]
    }
   ],
   "source": [
    "# An optimized version of Bubble Sort \n",
    "def bubbleSort(arr): \n",
    "    n = len(arr) \n",
    "   \n",
    "    # Traverse through all array elements \n",
    "    for i in range(n): \n",
    "        swapped = False\n",
    "  \n",
    "        # Last i elements are already \n",
    "        #  in place \n",
    "        for j in range(0, n-i-1): \n",
    "   \n",
    "            # traverse the array from 0 to \n",
    "            # n-i-1. Swap if the element  \n",
    "            # found is greater than the \n",
    "            # next element \n",
    "            if arr[j] > arr[j+1] : \n",
    "                arr[j], arr[j+1] = arr[j+1], arr[j] \n",
    "                swapped = True\n",
    "  \n",
    "        # IF no two elements were swapped \n",
    "        # by inner loop, then break \n",
    "        if swapped == False: \n",
    "            break\n",
    "           \n",
    "# Driver code to test above \n",
    "arr = [64, 34, 25, 12, 22, 11, 90] \n",
    "   \n",
    "bubbleSort(arr) \n",
    "   \n",
    "print (\"Sorted array :\") \n",
    "for i in range(len(arr)): \n",
    "    print (\"%d\" %arr[i],end=\" \") \n",
    "  "
   ]
  },
  {
   "cell_type": "markdown",
   "metadata": {},
   "source": [
    "# Insertion Sort"
   ]
  },
  {
   "cell_type": "code",
   "execution_count": 7,
   "metadata": {},
   "outputs": [
    {
     "name": "stdout",
     "output_type": "stream",
     "text": [
      "how many? 5\n",
      " enter the elements : 5\n",
      " enter the elements : 2\n",
      " enter the elements : 1\n",
      " enter the elements : 4\n",
      " enter the elements : 3\n",
      "[5, 2, 1, 4, 3]\n",
      "[1, 2, 3, 4, 5]\n"
     ]
    }
   ],
   "source": [
    "n= int(input(\"how many? \"))\n",
    "a=[]\n",
    "for i in range(n):\n",
    "    a.append(int(input(\" enter the elements : \")))\n",
    "print(a)\n",
    "\n",
    "def insertionSort(a,n):\n",
    "    for j in range(1,n):\n",
    "        key = a[j]\n",
    "        i  = j-1\n",
    "        while( i>=0 and a[i]>key):\n",
    "            a[i+1] = a[i]\n",
    "            i = i-1\n",
    "        a[i+1]=key\n",
    "    return a   \n",
    "\n",
    "x = insertionSort(a, n)\n",
    "print(x)\n",
    "        \n"
   ]
  },
  {
   "cell_type": "code",
   "execution_count": 3,
   "metadata": {},
   "outputs": [
    {
     "name": "stdout",
     "output_type": "stream",
     "text": [
      "3 4\n"
     ]
    }
   ],
   "source": [
    "m, n = map(int,input().split())"
   ]
  },
  {
   "cell_type": "markdown",
   "metadata": {},
   "source": [
    "# shell sort"
   ]
  },
  {
   "cell_type": "code",
   "execution_count": 4,
   "metadata": {},
   "outputs": [
    {
     "name": "stdout",
     "output_type": "stream",
     "text": [
      "Array before sorting:\n",
      "12\n",
      "34\n",
      "54\n",
      "2\n",
      "3\n",
      "\n",
      "Array after sorting:\n",
      "2\n",
      "3\n",
      "12\n",
      "34\n",
      "54\n"
     ]
    }
   ],
   "source": [
    "def shellSort(arr): \n",
    "  \n",
    "    # Start with a big gap, then reduce the gap \n",
    "    n = len(arr) \n",
    "    gap = n//2\n",
    "  \n",
    "    # Do a gapped insertion sort for this gap size. \n",
    "    # The first gap elements a[0..gap-1] are already in gapped  \n",
    "    # order keep adding one more element until the entire array \n",
    "    # is gap sorted \n",
    "    while gap > 0: \n",
    "  \n",
    "        for i in range(gap,n): \n",
    "  \n",
    "            # add a[i] to the elements that have been gap sorted \n",
    "            # save a[i] in temp and make a hole at position i \n",
    "            temp = arr[i] \n",
    "  \n",
    "            # shift earlier gap-sorted elements up until the correct \n",
    "            # location for a[i] is found \n",
    "            j = i \n",
    "            while  j >= gap and arr[j-gap] >temp: \n",
    "                arr[j] = arr[j-gap] \n",
    "                j -= gap \n",
    "  \n",
    "            # put temp (the original a[i]) in its correct location \n",
    "            arr[j] = temp \n",
    "        gap //= 2\n",
    "  \n",
    "  \n",
    "# Driver code to test above \n",
    "arr = [ 12, 34, 54, 2, 3] \n",
    "  \n",
    "n = len(arr) \n",
    "print (\"Array before sorting:\") \n",
    "for i in range(n): \n",
    "    print(arr[i]), \n",
    "  \n",
    "shellSort(arr) \n",
    "  \n",
    "print (\"\\nArray after sorting:\") \n",
    "for i in range(n): \n",
    "    print(arr[i]), \n",
    "  "
   ]
  },
  {
   "cell_type": "markdown",
   "metadata": {},
   "source": [
    "# Merge sort"
   ]
  },
  {
   "cell_type": "code",
   "execution_count": 7,
   "metadata": {},
   "outputs": [
    {
     "name": "stdout",
     "output_type": "stream",
     "text": [
      "how many? 3\n",
      "enter: 3\n",
      "enter: 2\n",
      "enter: 1\n",
      "[3, 2, 1]\n",
      "[1, 2, 3]\n"
     ]
    }
   ],
   "source": [
    "n=int(input(\"how many? \"))\n",
    "a=[]\n",
    "for i in range(n):\n",
    "    a.append(int(input(\"enter: \")))\n",
    "print(a)    \n",
    "# merge sorting\n",
    "\n",
    "def mergeSort(a):\n",
    "    if len(a)>1:\n",
    "        \n",
    "        mid=len(a)//2\n",
    "        \n",
    "        l=a[:mid] \n",
    "        r=a[mid:]\n",
    "    \n",
    "        mergeSort(l)\n",
    "        mergeSort(r)\n",
    "    \n",
    "        i=j=k=0\n",
    "        while i < len(l)and j<len(r):\n",
    "            if l[i]<r[j]:\n",
    "                a[k]=l[i]\n",
    "                i+=1\n",
    "            else:\n",
    "                a[k]=r[j]\n",
    "                j+=1\n",
    "            k+=1 \n",
    "        # Checking if any element was left \n",
    "        while i < len(l): \n",
    "            a[k] = l[i] \n",
    "            i+=1\n",
    "            k+=1\n",
    "          \n",
    "        while j < len(r): \n",
    "            a[k] = r[j] \n",
    "            j+=1\n",
    "            k+=1   \n",
    "    return(a)       \n",
    "\n",
    "x = mergeSort(a) \n",
    "print(x)\n"
   ]
  },
  {
   "cell_type": "code",
   "execution_count": 15,
   "metadata": {},
   "outputs": [
    {
     "name": "stdout",
     "output_type": "stream",
     "text": [
      "how many? 5\n",
      "enter: 5\n",
      "enter: 2\n",
      "enter: 1\n",
      "enter: 4\n",
      "enter: 3\n",
      "[5, 2, 1, 4, 3]\n",
      "main [5, 2]\n",
      "len l and r 1 1\n",
      "end while  [2, 2] 1 1 1 0\n",
      "0\n",
      "iiii [2, 5]\n",
      "main [4, 3]\n",
      "len l and r 1 1\n",
      "end while  [3, 3] 1 1 1 0\n",
      "0\n",
      "iiii [3, 4]\n",
      "main [1, 4, 3]\n",
      "len l and r 1 2\n",
      "ff [1, 4, 3]\n",
      "end while  [1, 4, 3] 1 1 0 1\n",
      "jjj [1, 4, 3]\n",
      "jjj [1, 3, 3]\n",
      "main [5, 2, 1, 4, 3]\n",
      "len l and r 2 3\n",
      "ff [1, 2, 1, 4, 3]\n",
      "end while  [1, 2, 3, 4, 3] 2 4 3 1\n",
      "1\n",
      "iiii [1, 2, 3, 4, 5]\n",
      "[1, 2, 3, 4, 5]\n"
     ]
    }
   ],
   "source": [
    "def mergeSort(arr): \n",
    "    if len(arr) >1: \n",
    "        mid = len(arr)//2 #Finding the mid of the array \n",
    "        L = arr[:mid] # Dividing the array elements  \n",
    "        R = arr[mid:] # into 2 halves \n",
    "  \n",
    "        mergeSort(L) # Sorting the first half \n",
    "        mergeSort(R) # Sorting the second half \n",
    "  \n",
    "        i = j = k = 0\n",
    "        print(\"main\", arr)\n",
    "        print(\"len l and r\", len(L),len(R))\n",
    "          \n",
    "        # Copy data to temp arrays L[] and R[] \n",
    "        while i < len(L) and j < len(R): \n",
    "            if L[i] < R[j]: \n",
    "                arr[k] = L[i] \n",
    "                print(\"ff\",arr)\n",
    "                i+=1\n",
    "            else: \n",
    "                arr[k] = R[j] \n",
    "                j+=1\n",
    "            k+=1\n",
    "         # Checking if any element was left \n",
    "        print(\"end while \",arr,len(L),k,j, i)\n",
    "        while i < len(L): \n",
    "            print(i)\n",
    "            arr[k] = L[i] \n",
    "            print(\"iiii\", arr)\n",
    "            i+=1\n",
    "            k+=1\n",
    "          \n",
    "        while j < len(R):\n",
    "            print(\"jjj\", arr)\n",
    "            arr[k] = R[j] \n",
    "            j+=1\n",
    "            k+=1    \n",
    "          \n",
    "       \n",
    "    return arr  \n",
    "\n",
    "\n",
    "n=int(input(\"how many? \"))\n",
    "arr=[]\n",
    "for i in range(n):\n",
    "    arr.append(int(input(\"enter: \")))\n",
    "print(arr)\n",
    "\n",
    "x = mergeSort(arr) \n",
    "print(x)"
   ]
  },
  {
   "cell_type": "code",
   "execution_count": 25,
   "metadata": {},
   "outputs": [
    {
     "name": "stdout",
     "output_type": "stream",
     "text": [
      "Given array is\n",
      "12 11 13 5 6 7\n",
      "Sorted array is : \n",
      "12 11 13 5 6 7\n"
     ]
    }
   ],
   "source": []
  },
  {
   "cell_type": "code",
   "execution_count": 20,
   "metadata": {},
   "outputs": [
    {
     "name": "stdout",
     "output_type": "stream",
     "text": [
      "[1, 2, 3, 4, 2]\n"
     ]
    }
   ],
   "source": [
    "a=[1,2,3,4]\n",
    "n=len(a)+1\n",
    "a.insert(n,2)\n",
    "print(a)"
   ]
  },
  {
   "cell_type": "markdown",
   "metadata": {},
   "source": [
    "# Quick sort"
   ]
  },
  {
   "cell_type": "code",
   "execution_count": 19,
   "metadata": {},
   "outputs": [
    {
     "name": "stdout",
     "output_type": "stream",
     "text": [
      "how many? 5\n",
      "enter: 5\n",
      "enter: 2\n",
      "enter: 1\n",
      "enter: 4\n",
      "enter: 3\n",
      "[5, 2, 1, 4, 3]\n",
      "[1, 2, 3, 4, 5]\n"
     ]
    }
   ],
   "source": [
    "def partition(a,l,h):\n",
    "    pivot = a[h]\n",
    "    i = l-1\n",
    "    for j in range(l,h):\n",
    "        if a[j]<pivot:\n",
    "            i+=1\n",
    "            a[i], a[j] = a[j], a[i]\n",
    "    a[i+1], a[h] = a[h], a[i+1]    \n",
    "    return i+1\n",
    "def quickSort(a,l,h):\n",
    "    if l<h:\n",
    "        x = partition(a,l,h)\n",
    "        quickSort(a,l,x-1)\n",
    "        quickSort(a,x+1,h)\n",
    "    return a    \n",
    "\n",
    "n=int(input(\"how many? \"))\n",
    "a=[]\n",
    "for i in range(n):\n",
    "    a.append(int(input(\"enter: \")))\n",
    "print(a)\n",
    "n=len(a)\n",
    "y = quickSort(a,0,n-1)\n",
    "print(y)\n",
    "            "
   ]
  },
  {
   "cell_type": "code",
   "execution_count": 6,
   "metadata": {},
   "outputs": [
    {
     "name": "stdout",
     "output_type": "stream",
     "text": [
      "how many? 5\n",
      "enter: 5\n",
      "enter: 2\n",
      "enter: 1\n",
      "enter: 4\n",
      "enter: 3\n",
      "[5, 2, 1, 4, 3]\n",
      "[1, 2, 3, 4, 5]\n"
     ]
    }
   ],
   "source": [
    "def partition(a,l,h):\n",
    "    pivot = a[h]\n",
    "    i =l-1\n",
    "    for j in range(l,h):\n",
    "        if a[j]<pivot:\n",
    "            i+=1\n",
    "            a[i], a[j] = a[j], a[i]\n",
    "    a[i+1], a[h] = a[h], a[i+1]    \n",
    "    return i+1\n",
    "def quickSort(a,l,h):\n",
    "    if l<h:\n",
    "        x = partition(a,l,h)\n",
    "        quickSort(a,l,x-1)\n",
    "        quickSort(a,x+1,h)\n",
    "    return a    \n",
    "\n",
    "n=int(input(\"how many? \"))\n",
    "a=[]\n",
    "for i in range(n):\n",
    "    a.append(int(input(\"enter: \")))\n",
    "print(a)\n",
    "n=len(a)\n",
    "y = quickSort(a,0,n-1)\n",
    "print(y)\n",
    "            "
   ]
  },
  {
   "cell_type": "code",
   "execution_count": null,
   "metadata": {},
   "outputs": [],
   "source": []
  },
  {
   "cell_type": "code",
   "execution_count": null,
   "metadata": {},
   "outputs": [],
   "source": []
  },
  {
   "cell_type": "code",
   "execution_count": null,
   "metadata": {},
   "outputs": [],
   "source": []
  },
  {
   "cell_type": "code",
   "execution_count": null,
   "metadata": {},
   "outputs": [],
   "source": []
  },
  {
   "cell_type": "code",
   "execution_count": null,
   "metadata": {},
   "outputs": [],
   "source": []
  },
  {
   "cell_type": "code",
   "execution_count": null,
   "metadata": {},
   "outputs": [],
   "source": []
  }
 ],
 "metadata": {
  "kernelspec": {
   "display_name": "Python 3",
   "language": "python",
   "name": "python3"
  },
  "language_info": {
   "codemirror_mode": {
    "name": "ipython",
    "version": 3
   },
   "file_extension": ".py",
   "mimetype": "text/x-python",
   "name": "python",
   "nbconvert_exporter": "python",
   "pygments_lexer": "ipython3",
   "version": "3.7.4"
  }
 },
 "nbformat": 4,
 "nbformat_minor": 2
}
