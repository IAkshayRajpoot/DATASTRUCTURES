{
 "cells": [
  {
   "cell_type": "code",
   "execution_count": null,
   "metadata": {},
   "outputs": [],
   "source": []
  },
  {
   "cell_type": "code",
   "execution_count": null,
   "metadata": {},
   "outputs": [],
   "source": []
  },
  {
   "cell_type": "code",
   "execution_count": null,
   "metadata": {},
   "outputs": [],
   "source": []
  },
  {
   "cell_type": "code",
   "execution_count": 2,
   "metadata": {},
   "outputs": [
    {
     "name": "stdout",
     "output_type": "stream",
     "text": [
      "10.5\n",
      "3\n"
     ]
    }
   ],
   "source": [
    "n=21/2\n",
    "print(n)\n",
    "if n==0:\n",
    "    print(n)\n",
    "else:\n",
    "    print(3)"
   ]
  },
  {
   "cell_type": "markdown",
   "metadata": {},
   "source": [
    "# Recursion"
   ]
  },
  {
   "cell_type": "markdown",
   "metadata": {},
   "source": [
    "# tower of hanoi"
   ]
  },
  {
   "cell_type": "code",
   "execution_count": 14,
   "metadata": {},
   "outputs": [
    {
     "name": "stdout",
     "output_type": "stream",
     "text": [
      "disk numbers? 3\n",
      "move disk 1 from A to C\n",
      "move disk 2 from A to B\n",
      "move disk 1 from C to B\n",
      "move disk 3 from A to C\n",
      "move disk 1 from B to A\n",
      "move disk 2 from B to C\n",
      "move disk 1 from A to C\n"
     ]
    }
   ],
   "source": [
    " def toh( n, a, b, c):\n",
    "        if n==1:\n",
    "            print(\"move disk {} from {} to {}\".format(n,a,c)) # 2*n-1 total function calls for n=2 total 3 \n",
    "        else:\n",
    "            toh(n-1,a,c,b)\n",
    "            print(\"move disk {} from {} to {}\".format(n,a,c))\n",
    "            toh(n-1,b,a,c)\n",
    "n=int(input(\"disk numbers? \"))  \n",
    "t = TOH()\n",
    "toh( n,'A', 'B', 'C')\n",
    "            "
   ]
  },
  {
   "cell_type": "code",
   "execution_count": 12,
   "metadata": {},
   "outputs": [
    {
     "name": "stdout",
     "output_type": "stream",
     "text": [
      "Move the disk S from S to A\n",
      "Move the disk S from S to D\n",
      "Move the disk A from A to D\n"
     ]
    }
   ],
   "source": [
    "# Assuming n-th disk is \n",
    "# bottom disk (count down) \n",
    "def tower(n, sourcePole, destinationPole, auxiliaryPole): \n",
    "  \n",
    "    # Base case (termination condition) \n",
    "    if(n == 0): \n",
    "        return\n",
    "      \n",
    "    # Move first n-1 disks \n",
    "    # from source pole \n",
    "    # to auxiliary pole \n",
    "    # using destination as \n",
    "    # temporary pole \n",
    "    tower(n-1, sourcePole, auxiliaryPole, destinationPole) \n",
    "      \n",
    "    # Move the remaining \n",
    "    # disk from source \n",
    "    # pole to destination pole \n",
    "    print(\"Move the disk\",sourcePole,\"from\",sourcePole,\"to\",destinationPole) \n",
    "      \n",
    "    # Move the n-1 disks from \n",
    "    # auxiliary (now source) \n",
    "    # pole to destination pole \n",
    "    # using source pole as \n",
    "    # temporary (auxiliary) pole \n",
    "    tower(n-1, auxiliaryPole, destinationPole,sourcePole) \n",
    "  \n",
    "  \n",
    "# Driver code \n",
    "#n=int(input(\"how many disks? \")\n",
    "tower(2, 'S', 'D', 'A')      \n"
   ]
  },
  {
   "cell_type": "markdown",
   "metadata": {},
   "source": [
    "# QUEUE"
   ]
  },
  {
   "cell_type": "code",
   "execution_count": 17,
   "metadata": {},
   "outputs": [
    {
     "name": "stdout",
     "output_type": "stream",
     "text": [
      " enter capacity of queue: 3\n",
      "how many elements? 3\n",
      "enter: 3\n",
      "3 Enqueued in queue\n",
      "enter: 2\n",
      "2 Enqueued in queue\n",
      "enter: 1\n",
      "1 Enqueued in queue\n",
      "[3, 2, 1]\n",
      "3 Dequeued from queue\n",
      "front=  2\n"
     ]
    },
    {
     "ename": "IndexError",
     "evalue": "list index out of range",
     "output_type": "error",
     "traceback": [
      "\u001b[0;31m---------------------------------------------------------------------------\u001b[0m",
      "\u001b[0;31mIndexError\u001b[0m                                Traceback (most recent call last)",
      "\u001b[0;32m<ipython-input-17-feabe6e02d45>\u001b[0m in \u001b[0;36m<module>\u001b[0;34m\u001b[0m\n\u001b[1;32m     54\u001b[0m \u001b[0mque\u001b[0m\u001b[0;34m.\u001b[0m\u001b[0mDequeue\u001b[0m\u001b[0;34m(\u001b[0m\u001b[0;34m)\u001b[0m\u001b[0;34m\u001b[0m\u001b[0;34m\u001b[0m\u001b[0m\n\u001b[1;32m     55\u001b[0m \u001b[0mque\u001b[0m\u001b[0;34m.\u001b[0m\u001b[0mFront\u001b[0m\u001b[0;34m(\u001b[0m\u001b[0;34m)\u001b[0m\u001b[0;34m\u001b[0m\u001b[0;34m\u001b[0m\u001b[0m\n\u001b[0;32m---> 56\u001b[0;31m \u001b[0mque\u001b[0m\u001b[0;34m.\u001b[0m\u001b[0mRear\u001b[0m\u001b[0;34m(\u001b[0m\u001b[0;34m)\u001b[0m\u001b[0;34m\u001b[0m\u001b[0;34m\u001b[0m\u001b[0m\n\u001b[0m\u001b[1;32m     57\u001b[0m \u001b[0mque\u001b[0m\u001b[0;34m.\u001b[0m\u001b[0mDequeue\u001b[0m\u001b[0;34m(\u001b[0m\u001b[0;34m)\u001b[0m\u001b[0;34m\u001b[0m\u001b[0;34m\u001b[0m\u001b[0m\n\u001b[1;32m     58\u001b[0m \u001b[0mprint\u001b[0m\u001b[0;34m(\u001b[0m\u001b[0mque\u001b[0m\u001b[0;34m.\u001b[0m\u001b[0mq\u001b[0m\u001b[0;34m)\u001b[0m\u001b[0;34m\u001b[0m\u001b[0;34m\u001b[0m\u001b[0m\n",
      "\u001b[0;32m<ipython-input-17-feabe6e02d45>\u001b[0m in \u001b[0;36mRear\u001b[0;34m(self)\u001b[0m\n\u001b[1;32m     43\u001b[0m             \u001b[0mprint\u001b[0m\u001b[0;34m(\u001b[0m\u001b[0;34m\"khaali when checking for rear\"\u001b[0m\u001b[0;34m)\u001b[0m\u001b[0;34m\u001b[0m\u001b[0;34m\u001b[0m\u001b[0m\n\u001b[1;32m     44\u001b[0m             \u001b[0;32mreturn\u001b[0m\u001b[0;34m\u001b[0m\u001b[0;34m\u001b[0m\u001b[0m\n\u001b[0;32m---> 45\u001b[0;31m         \u001b[0mprint\u001b[0m\u001b[0;34m(\u001b[0m\u001b[0;34m\"rear= \"\u001b[0m\u001b[0;34m,\u001b[0m \u001b[0mself\u001b[0m\u001b[0;34m.\u001b[0m\u001b[0mq\u001b[0m\u001b[0;34m[\u001b[0m\u001b[0mself\u001b[0m\u001b[0;34m.\u001b[0m\u001b[0mrear\u001b[0m\u001b[0;34m]\u001b[0m\u001b[0;34m)\u001b[0m\u001b[0;34m\u001b[0m\u001b[0;34m\u001b[0m\u001b[0m\n\u001b[0m\u001b[1;32m     46\u001b[0m \u001b[0;34m\u001b[0m\u001b[0m\n\u001b[1;32m     47\u001b[0m \u001b[0;34m\u001b[0m\u001b[0m\n",
      "\u001b[0;31mIndexError\u001b[0m: list index out of range"
     ]
    }
   ],
   "source": [
    "## array implementaion\n",
    "\n",
    "class Queue:\n",
    "    def __init__(self, n):\n",
    "        self.front =-1\n",
    "        self.size = 0\n",
    "        self.rear = n-1\n",
    "        self.q =  [None]*n\n",
    "        self.capacity = n\n",
    "    def isFull(self):\n",
    "        if  self.size==self.capacity:\n",
    "            print(\"Full\")\n",
    "            return\n",
    "    def isEmpty(self):\n",
    "        if self.size==0:\n",
    "            print(\" khaali hai \")\n",
    "            return\n",
    "    def Enqueue(self, data):\n",
    "        if self.isFull():\n",
    "            print(\" No jagah yani overflow\")\n",
    "            return\n",
    "        self.rear= (self.rear+1)% self.capacity\n",
    "        self.q[self.rear]=data\n",
    "        self.size+=1\n",
    "        print(\"%i Enqueued in queue\"%(data))\n",
    "    def Dequeue(self):\n",
    "        if self.isEmpty():\n",
    "            print(\" full yani underflow\")\n",
    "            return\n",
    "        self.front=(self.front+1)%self.capacity\n",
    "        self.size-=1\n",
    "        print(\"%s Dequeued from queue\"%str(self.q[self.front]))\n",
    "        del self.q[self.front]\n",
    "        \n",
    "        \n",
    "    def Front(self):\n",
    "        if self.isEmpty():\n",
    "            print(\"khaali when checking for front\")\n",
    "            return\n",
    "        print(\"front= \", self.q[self.front])\n",
    "    def Rear(self):\n",
    "        if self.isEmpty():\n",
    "            print(\"khaali when checking for rear\")\n",
    "            return\n",
    "        print(\"rear= \", self.q[self.rear])\n",
    "            \n",
    "            \n",
    "n= int(input(\" enter capacity of queue: \"))  \n",
    "que = Queue(n)\n",
    "m = int(input(\"how many elements? \"))\n",
    "for i  in range(m):\n",
    "    que.Enqueue(int(input(\"enter: \")))\n",
    "print(que.q)    \n",
    "que.Dequeue()\n",
    "que.Front()\n",
    "que.Rear()\n",
    "que.Dequeue()\n",
    "print(que.q)\n",
    "que.Enqueue(444)\n",
    "print(que.q)\n",
    "que.Front()\n",
    "\n",
    "\n",
    "    \n",
    "    \n",
    "        \n",
    "            \n",
    "        "
   ]
  },
  {
   "cell_type": "code",
   "execution_count": 11,
   "metadata": {},
   "outputs": [
    {
     "name": "stdout",
     "output_type": "stream",
     "text": [
      "how many? 4\n",
      " enter 4\n",
      "enqueued 4\n",
      " enter 3\n",
      "enqueued 3\n",
      " enter 2\n",
      "enqueued 2\n",
      " enter 1\n",
      "enqueued 1\n",
      "4\n",
      "3\n",
      "2\n",
      "1\n",
      "front=  4\n",
      "rear=  1\n",
      "dequeued 4\n",
      "front=  3\n",
      "dequeued 3\n",
      "rear=  1\n",
      "2\n",
      "1\n"
     ]
    }
   ],
   "source": [
    "# linked list \n",
    "#wrong because running time should always be O(1)\n",
    "\n",
    "class Queuenode:\n",
    "    def __init__(self, data):\n",
    "        self.data=data\n",
    "        self.next=None\n",
    "\n",
    "class Queue:\n",
    "    def __init__(self):\n",
    "        self.head=None\n",
    "        \n",
    "    def Enqueue(self, data):\n",
    "        newnode= Queuenode(data)\n",
    "        if self.head==None:\n",
    "            self.head=newnode\n",
    "            print(\"enqueued\", data)\n",
    "        else:    \n",
    "            temp=self.head\n",
    "            while(temp.next):\n",
    "                temp=temp.next\n",
    "            temp.next=newnode\n",
    "            print(\"enqueued\", data)\n",
    "    \n",
    "    def Dequeue(self):\n",
    "        if self.head==None:\n",
    "            print(\" apun khaali hai\")\n",
    "        else:\n",
    "            temp=self.head\n",
    "            self.head = self.head.next\n",
    "            print(\"dequeued\", temp.data)\n",
    "            temp=None\n",
    "            \n",
    "    def Front(self):\n",
    "        if self.head==None:\n",
    "            print(\"khaaali\")\n",
    "        else:\n",
    "            print(\"front= \", self.head.data)\n",
    "    def Rear(self):\n",
    "        if self.head==None:\n",
    "            print(\"empty\")\n",
    "        else:\n",
    "            temp =self.head\n",
    "            while(temp.next):\n",
    "                temp=temp.next\n",
    "            print(\"rear= \", temp.data)  \n",
    "    def printQueue(self):\n",
    "        if self.head==None:\n",
    "            print(\"khaali hai to kya print karwau\")\n",
    "    \n",
    "        else:\n",
    "            temp =self.head\n",
    "            while(temp):\n",
    "                print(temp.data)\n",
    "                temp=temp.next\n",
    "       \n",
    "    def display(self):\n",
    "        temp= self.head\n",
    "        while(temp.next):\n",
    "            print(temp.data)\n",
    "            temp =temp.next            \n",
    "                \n",
    "n=int(input(\"how many? \")) \n",
    "\n",
    "q = Queue()\n",
    "for i in range(n):\n",
    "    q.Enqueue(int(input(\" enter \")))\n",
    "    \n",
    "q.printQueue()\n",
    "q.Front()\n",
    "q.Rear()\n",
    "q.Dequeue()\n",
    "q.Front()\n",
    "q.Dequeue()\n",
    "q.Rear()\n",
    "q.printQueue()\n",
    "\n",
    "\n",
    "                   \n",
    "            "
   ]
  },
  {
   "cell_type": "code",
   "execution_count": 12,
   "metadata": {},
   "outputs": [
    {
     "name": "stdout",
     "output_type": "stream",
     "text": [
      "Queue Front 30\n",
      "Queue Rear 50\n"
     ]
    }
   ],
   "source": [
    "# Python3 program to demonstrate linked list \n",
    "# based implementation of queue \n",
    "  \n",
    "# A linked list (LL) node \n",
    "# to store a queue entry \n",
    "class Node: \n",
    "      \n",
    "    def __init__(self, data): \n",
    "        self.data = data \n",
    "        self.next = None\n",
    "  \n",
    "# A class to represent a queue \n",
    "  \n",
    "# The queue, front stores the front node \n",
    "# of LL and rear stores the last node of LL \n",
    "class Queue: \n",
    "      \n",
    "    def __init__(self): \n",
    "        self.front = self.rear = None\n",
    "  \n",
    "    def isEmpty(self): \n",
    "        return self.front == None\n",
    "      \n",
    "    # Method to add an item to the queue \n",
    "    def EnQueue(self, item): \n",
    "        temp = Node(item) \n",
    "          \n",
    "        if self.rear == None: \n",
    "            self.front = self.rear = temp \n",
    "            return\n",
    "        self.rear.next = temp \n",
    "        self.rear = temp \n",
    "  \n",
    "    # Method to remove an item from queue \n",
    "    def DeQueue(self): \n",
    "          \n",
    "        if self.isEmpty(): \n",
    "            return\n",
    "        temp = self.front \n",
    "        self.front = temp.next\n",
    "  \n",
    "        if(self.front == None): \n",
    "            self.rear = None\n",
    "  \n",
    "# Driver Code \n",
    "if __name__== '__main__': \n",
    "    q = Queue() \n",
    "    q.EnQueue(10) \n",
    "    q.EnQueue(20) \n",
    "    q.DeQueue() \n",
    "    q.DeQueue() \n",
    "    q.EnQueue(30) \n",
    "    q.EnQueue(40) \n",
    "    q.EnQueue(50)     \n",
    "    print(\"Queue Front \" + str(q.front.data)) \n",
    "    print(\"Queue Rear \" + str(q.rear.data)) "
   ]
  },
  {
   "cell_type": "code",
   "execution_count": 4,
   "metadata": {},
   "outputs": [
    {
     "name": "stdout",
     "output_type": "stream",
     "text": [
      "Initial queue\n",
      "deque(['a', 'b', 'c'])\n",
      "\n",
      "Elements dequeued from the queue\n",
      "a\n",
      "b\n",
      "c\n",
      "\n",
      "Queue after removing elements\n",
      "deque([])\n"
     ]
    }
   ],
   "source": [
    "# Python program to \n",
    "# demonstrate queue implementation \n",
    "# using collections.dequeue \n",
    "  \n",
    "  \n",
    "from collections import deque \n",
    "  \n",
    "# Initializing a queue \n",
    "q = deque() \n",
    "  \n",
    "# Adding elements to a queue \n",
    "q.append('a') \n",
    "q.append('b') \n",
    "q.append('c') \n",
    "  \n",
    "print(\"Initial queue\") \n",
    "print(q) \n",
    "  \n",
    "# Removing elements from a queue \n",
    "print(\"\\nElements dequeued from the queue\") \n",
    "print(q.popleft()) \n",
    "print(q.popleft()) \n",
    "print(q.popleft()) \n",
    "  \n",
    "print(\"\\nQueue after removing elements\") \n",
    "print(q) \n",
    "  \n",
    "# Uncommenting q.popleft() \n",
    "# will raise an IndexError \n",
    "# as queue is now empty "
   ]
  },
  {
   "cell_type": "code",
   "execution_count": 5,
   "metadata": {},
   "outputs": [
    {
     "name": "stdout",
     "output_type": "stream",
     "text": [
      "0\n",
      "\n",
      "Full:  True\n",
      "\n",
      "Elements dequeued from the queue\n",
      "a\n",
      "b\n",
      "c\n",
      "\n",
      "Empty:  True\n",
      "\n",
      "Empty:  False\n",
      "Full:  False\n"
     ]
    }
   ],
   "source": [
    "# Python program to \n",
    "# demonstrate implementation of \n",
    "# queue using queue module \n",
    "  \n",
    "  \n",
    "from queue import Queue \n",
    "  \n",
    "# Initializing a queue \n",
    "q = Queue(maxsize = 3) \n",
    "  \n",
    "# qsize() give the maxsize  \n",
    "# of the Queue  \n",
    "print(q.qsize())  \n",
    "  \n",
    "# Adding of element to queue \n",
    "q.put('a') \n",
    "q.put('b') \n",
    "q.put('c') \n",
    "  \n",
    "# Return Boolean for Full  \n",
    "# Queue  \n",
    "print(\"\\nFull: \", q.full())  \n",
    "  \n",
    "# Removing element from queue \n",
    "print(\"\\nElements dequeued from the queue\") \n",
    "print(q.get()) \n",
    "print(q.get()) \n",
    "print(q.get()) \n",
    "  \n",
    "# Return Boolean for Empty  \n",
    "# Queue  \n",
    "print(\"\\nEmpty: \", q.empty()) \n",
    "  \n",
    "q.put(1) \n",
    "print(\"\\nEmpty: \", q.empty())  \n",
    "print(\"Full: \", q.full()) \n",
    "  \n",
    "# This would result into Infinite  \n",
    "# Loop as the Queue is empty.  \n",
    "# print(q.get()) "
   ]
  },
  {
   "cell_type": "markdown",
   "metadata": {},
   "source": [
    "# queue using stack"
   ]
  },
  {
   "cell_type": "code",
   "execution_count": 4,
   "metadata": {},
   "outputs": [
    {
     "name": "stdout",
     "output_type": "stream",
     "text": [
      "1\n",
      "2\n",
      "3\n"
     ]
    }
   ],
   "source": [
    "# Python3 program to implement Queue using  \n",
    "# two stacks with costly enQueue()  \n",
    "  \n",
    "class Queue:  \n",
    "    def __init__(self): \n",
    "        self.s1 = [] \n",
    "        self.s2 = [] \n",
    "  \n",
    "    def enQueue(self, x): \n",
    "          \n",
    "        # Move all elements from s1 to s2  \n",
    "        while len(self.s1) != 0:  \n",
    "            self.s2.append(self.s1[-1])  \n",
    "            self.s1.pop() \n",
    "  \n",
    "        # Push item into self.s1  \n",
    "        self.s1.append(x)  \n",
    "  \n",
    "        # Push everything back to s1  \n",
    "        while len(self.s2) != 0:  \n",
    "            self.s1.append(self.s2[-1])  \n",
    "            self.s2.pop() \n",
    "  \n",
    "    # Dequeue an item from the queue  \n",
    "    def deQueue(self): \n",
    "          \n",
    "            # if first stack is empty  \n",
    "        if len(self.s1) == 0:  \n",
    "            print(\"Q is Empty\") \n",
    "      \n",
    "        # Return top of self.s1  \n",
    "        x = self.s1[-1]  \n",
    "        self.s1.pop()  \n",
    "        return x \n",
    "  \n",
    "# Driver code  \n",
    "if __name__ == '__main__': \n",
    "    q = Queue() \n",
    "    q.enQueue(1)  \n",
    "    q.enQueue(2)  \n",
    "    q.enQueue(3)  \n",
    "  \n",
    "    print(q.deQueue()) \n",
    "    print(q.deQueue()) \n",
    "    print(q.deQueue()) "
   ]
  },
  {
   "cell_type": "code",
   "execution_count": 2,
   "metadata": {},
   "outputs": [
    {
     "name": "stdout",
     "output_type": "stream",
     "text": [
      "1\n",
      "2\n",
      "3\n"
     ]
    }
   ],
   "source": [
    "# Python3 program to implement Queue using   \n",
    "# one stack and recursive call stack.  \n",
    "class Queue: \n",
    "    def __init__(self): \n",
    "        self.s = [] \n",
    "          \n",
    "    # Enqueue an item to the queue  \n",
    "    def enQueue(self, data): \n",
    "        self.s.append(data) \n",
    "          \n",
    "    # Dequeue an item from the queue  \n",
    "    def deQueue(self): \n",
    "        # Return if queue is empty \n",
    "        if len(self.s) <= 0: \n",
    "            print('Queue is empty') \n",
    "            return\n",
    "          \n",
    "        # pop an item from the stack \n",
    "        x = self.s[len(self.s) - 1] \n",
    "        self.s.pop() \n",
    "          \n",
    "        # if stack become empty \n",
    "        # return the popped item \n",
    "        if len(self.s) <= 0: \n",
    "            return x \n",
    "              \n",
    "        # recursive call \n",
    "        item = self.deQueue() \n",
    "          \n",
    "        # push popped item back to \n",
    "        # the stack \n",
    "        self.s.append(x) \n",
    "          \n",
    "        # return the result of  \n",
    "        # deQueue() call \n",
    "        return item \n",
    "      \n",
    "# Driver code   \n",
    "if __name__ == '__main__': \n",
    "    q = Queue() \n",
    "    q.enQueue(1) \n",
    "    q.enQueue(2) \n",
    "    q.enQueue(3) \n",
    "      \n",
    "    print(q.deQueue()) \n",
    "    print(q.deQueue()) \n",
    "    print(q.deQueue())   "
   ]
  },
  {
   "cell_type": "markdown",
   "metadata": {},
   "source": [
    "# priority queue"
   ]
  },
  {
   "cell_type": "code",
   "execution_count": 6,
   "metadata": {},
   "outputs": [
    {
     "name": "stdout",
     "output_type": "stream",
     "text": [
      "The created heap is : [1, 3, 9, 7, 5]\n",
      "The modified heap after push is : [1, 3, 4, 7, 5, 9]\n",
      "The popped and smallest element is : 1\n"
     ]
    }
   ],
   "source": [
    "# Python code to demonstrate working of  \n",
    "# heapify(), heappush() and heappop() \n",
    "  \n",
    "# importing \"heapq\" to implement heap queue \n",
    "import heapq \n",
    "  \n",
    "# initializing list \n",
    "li = [5, 7, 9, 1, 3] \n",
    "  \n",
    "# using heapify to convert list into heap \n",
    "heapq.heapify(li) \n",
    "  \n",
    "# printing created heap \n",
    "print (\"The created heap is : \",end=\"\") \n",
    "print (list(li)) \n",
    "  \n",
    "# using heappush() to push elements into heap \n",
    "# pushes 4 \n",
    "heapq.heappush(li,4) \n",
    "  \n",
    "# printing modified heap \n",
    "print (\"The modified heap after push is : \",end=\"\") \n",
    "print (list(li)) \n",
    "  \n",
    "# using heappop() to pop smallest element \n",
    "print (\"The popped and smallest element is : \",end=\"\") \n",
    "print (heapq.heappop(li)) "
   ]
  },
  {
   "cell_type": "markdown",
   "metadata": {},
   "source": [
    "# Dequeue"
   ]
  },
  {
   "cell_type": "code",
   "execution_count": 1,
   "metadata": {},
   "outputs": [
    {
     "name": "stdout",
     "output_type": "stream",
     "text": [
      "The deque after appending at right is : \n",
      "deque([1, 2, 3, 4])\n",
      "The deque after appending at left is : \n",
      "deque([6, 1, 2, 3, 4])\n",
      "The deque after deleting from right is : \n",
      "deque([6, 1, 2, 3])\n",
      "The deque after deleting from left is : \n",
      "deque([1, 2, 3])\n"
     ]
    }
   ],
   "source": [
    "# Python code to demonstrate working of  \n",
    "# append(), appendleft(), pop(), and popleft() \n",
    "  \n",
    "# importing \"collections\" for deque operations \n",
    "import collections \n",
    "  \n",
    "# initializing deque \n",
    "de = collections.deque([1,2,3]) \n",
    "  \n",
    "# using append() to insert element at right end  \n",
    "# inserts 4 at the end of deque \n",
    "de.append(4) \n",
    "  \n",
    "# printing modified deque \n",
    "print (\"The deque after appending at right is : \") \n",
    "print (de) \n",
    "  \n",
    "# using appendleft() to insert element at right end  \n",
    "# inserts 6 at the beginning of deque \n",
    "de.appendleft(6) \n",
    "  \n",
    "# printing modified deque \n",
    "print (\"The deque after appending at left is : \") \n",
    "print (de) \n",
    "  \n",
    "# using pop() to delete element from right end  \n",
    "# deletes 4 from the right end of deque \n",
    "de.pop() \n",
    "  \n",
    "# printing modified deque \n",
    "print (\"The deque after deleting from right is : \") \n",
    "print (de) \n",
    "  \n",
    "# using popleft() to delete element from left end  \n",
    "# deletes 6 from the left end of deque \n",
    "de.popleft() \n",
    "  \n",
    "# printing modified deque \n",
    "print (\"The deque after deleting from left is : \") \n",
    "print (de) "
   ]
  },
  {
   "cell_type": "code",
   "execution_count": 2,
   "metadata": {},
   "outputs": [
    {
     "name": "stdout",
     "output_type": "stream",
     "text": [
      "The number 4 first occurs at a position : \n",
      "4\n",
      "The deque after inserting 3 at 5th position is : \n",
      "deque([1, 2, 3, 3, 3, 4, 2, 4])\n",
      "The count of 3 in deque is : \n",
      "3\n",
      "The deque after deleting first occurrence of 3 is : \n",
      "deque([1, 2, 3, 3, 4, 2, 4])\n"
     ]
    }
   ],
   "source": [
    "# Python code to demonstrate working of  \n",
    "# insert(), index(), remove(), count() \n",
    "  \n",
    "# importing \"collections\" for deque operations \n",
    "import collections \n",
    "  \n",
    "# initializing deque \n",
    "de = collections.deque([1, 2, 3, 3, 4, 2, 4]) \n",
    "  \n",
    "# using index() to print the first occurrence of 4 \n",
    "print (\"The number 4 first occurs at a position : \") \n",
    "print (de.index(4,2,5)) \n",
    "  \n",
    "# using insert() to insert the value 3 at 5th position \n",
    "de.insert(4,3) \n",
    "  \n",
    "# printing modified deque \n",
    "print (\"The deque after inserting 3 at 5th position is : \") \n",
    "print (de) \n",
    "  \n",
    "# using count() to count the occurrences of 3 \n",
    "print (\"The count of 3 in deque is : \") \n",
    "print (de.count(3)) \n",
    "  \n",
    "# using remove() to remove the first occurrence of 3 \n",
    "de.remove(3) \n",
    "  \n",
    "# printing modified deque \n",
    "print (\"The deque after deleting first occurrence of 3 is : \") \n",
    "print (de) "
   ]
  },
  {
   "cell_type": "code",
   "execution_count": 3,
   "metadata": {},
   "outputs": [
    {
     "name": "stdout",
     "output_type": "stream",
     "text": [
      "The deque after extending deque at end is : \n",
      "deque([1, 2, 3, 4, 5, 6])\n",
      "The deque after extending deque at beginning is : \n",
      "deque([9, 8, 7, 1, 2, 3, 4, 5, 6])\n",
      "The deque after rotating deque is : \n",
      "deque([1, 2, 3, 4, 5, 6, 9, 8, 7])\n",
      "The deque after rotating deque is : \n",
      "deque([9, 8, 7, 1, 2, 3, 4, 5, 6])\n",
      "The deque after reversing deque is : \n",
      "deque([6, 5, 4, 3, 2, 1, 7, 8, 9])\n"
     ]
    }
   ],
   "source": [
    "# Python code to demonstrate working of  \n",
    "# extend(), extendleft(), rotate(), reverse() \n",
    "  \n",
    "# importing \"collections\" for deque operations \n",
    "import collections \n",
    "  \n",
    "# initializing deque \n",
    "de = collections.deque([1, 2, 3,]) \n",
    "  \n",
    "# using extend() to add numbers to right end  \n",
    "# adds 4,5,6 to right end \n",
    "de.extend([4,5,6]) \n",
    "  \n",
    "# printing modified deque \n",
    "print (\"The deque after extending deque at end is : \") \n",
    "print (de) \n",
    "  \n",
    "# using extendleft() to add numbers to left end  \n",
    "# adds 7,8,9 to right end \n",
    "de.extendleft([7,8,9]) \n",
    "  \n",
    "# printing modified deque \n",
    "print (\"The deque after extending deque at beginning is : \") \n",
    "print (de) \n",
    "  \n",
    "# using rotate() to rotate the deque \n",
    "# rotates by 3 to left \n",
    "de.rotate(-3) \n",
    "  \n",
    "# printing modified deque \n",
    "print (\"The deque after rotating deque is : \") \n",
    "print (de) \n",
    "\n",
    "de.rotate(3) \n",
    "  \n",
    "# printing modified deque \n",
    "print (\"The deque after rotating deque is : \") \n",
    "print (de) \n",
    "  \n",
    "# using reverse() to reverse the deque \n",
    "de.reverse() \n",
    "  \n",
    "# printing modified deque \n",
    "print (\"The deque after reversing deque is : \") \n",
    "print (de) "
   ]
  },
  {
   "cell_type": "code",
   "execution_count": null,
   "metadata": {},
   "outputs": [],
   "source": []
  },
  {
   "cell_type": "markdown",
   "metadata": {},
   "source": [
    "# circular queue"
   ]
  },
  {
   "cell_type": "code",
   "execution_count": null,
   "metadata": {},
   "outputs": [],
   "source": []
  },
  {
   "cell_type": "code",
   "execution_count": null,
   "metadata": {},
   "outputs": [],
   "source": []
  },
  {
   "cell_type": "code",
   "execution_count": null,
   "metadata": {},
   "outputs": [],
   "source": []
  },
  {
   "cell_type": "code",
   "execution_count": null,
   "metadata": {},
   "outputs": [],
   "source": []
  },
  {
   "cell_type": "code",
   "execution_count": null,
   "metadata": {},
   "outputs": [],
   "source": []
  },
  {
   "cell_type": "code",
   "execution_count": null,
   "metadata": {},
   "outputs": [],
   "source": []
  },
  {
   "cell_type": "code",
   "execution_count": null,
   "metadata": {},
   "outputs": [],
   "source": []
  }
 ],
 "metadata": {
  "kernelspec": {
   "display_name": "Python 3",
   "language": "python",
   "name": "python3"
  },
  "language_info": {
   "codemirror_mode": {
    "name": "ipython",
    "version": 3
   },
   "file_extension": ".py",
   "mimetype": "text/x-python",
   "name": "python",
   "nbconvert_exporter": "python",
   "pygments_lexer": "ipython3",
   "version": "3.7.4"
  }
 },
 "nbformat": 4,
 "nbformat_minor": 2
}
